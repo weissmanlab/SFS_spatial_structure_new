{
 "cells": [
  {
   "cell_type": "markdown",
   "metadata": {
    "id": "RdmCMVb2y-67"
   },
   "source": [
    "# Import packages, define functions, set plotting style"
   ]
  },
  {
   "cell_type": "code",
   "execution_count": 1,
   "metadata": {
    "executionInfo": {
     "elapsed": 12,
     "status": "ok",
     "timestamp": 1652271688005,
     "user": {
      "displayName": "Jiseon Min",
      "userId": "11505143649444708282"
     },
     "user_tz": 240
    },
    "id": "l9_1pEn7y-7F"
   },
   "outputs": [],
   "source": [
    "import numpy as np\n",
    "import matplotlib.pyplot as plt\n",
    "from labellines import labelLines\n",
    "from matplotlib.legend_handler import HandlerLine2D, HandlerTuple\n",
    "from scipy.optimize import curve_fit\n",
    "from matplotlib import cm"
   ]
  },
  {
   "cell_type": "code",
   "execution_count": 2,
   "metadata": {},
   "outputs": [],
   "source": [
    "def moving_average(a, n = 3, start_smooth = 100):\n",
    "    a_start = a[:start_smooth]\n",
    "    a_end = a[start_smooth:]\n",
    "    ret = np.cumsum(a_end, dtype=float)\n",
    "    ret[n:] = ret[n:] - ret[:-n]\n",
    "    return np.concatenate((a_start, ret[n - 1:] / n))"
   ]
  },
  {
   "cell_type": "code",
   "execution_count": 3,
   "metadata": {},
   "outputs": [],
   "source": [
    "def power_law_fit(x, a):\n",
    "    ''' Use this to fit f^-2 (intermediate f) '''\n",
    "    return a * x ** (-2)"
   ]
  },
  {
   "cell_type": "code",
   "execution_count": 4,
   "metadata": {
    "executionInfo": {
     "elapsed": 214,
     "status": "ok",
     "timestamp": 1652272045792,
     "user": {
      "displayName": "Jiseon Min",
      "userId": "11505143649444708282"
     },
     "user_tz": 240
    },
    "id": "9735lS6py-7H"
   },
   "outputs": [],
   "source": [
    "# Plotting settings:\n",
    "plt.rc('text', usetex=True)\n",
    "plt.rc('font', family='serif', size = 170, weight = 'bold')\n",
    "plt.rcParams['xtick.major.width'] = 8\n",
    "plt.rcParams['xtick.major.size'] = 30\n",
    "plt.rcParams['ytick.major.width'] = 8\n",
    "plt.rcParams['ytick.major.size'] = 30"
   ]
  },
  {
   "cell_type": "markdown",
   "metadata": {},
   "source": [
    "# Allele frequency spectra"
   ]
  },
  {
   "cell_type": "code",
   "execution_count": 5,
   "metadata": {
    "colab": {
     "base_uri": "https://localhost:8080/",
     "height": 1000
    },
    "executionInfo": {
     "elapsed": 46186,
     "status": "error",
     "timestamp": 1652272112036,
     "user": {
      "displayName": "Jiseon Min",
      "userId": "11505143649444708282"
     },
     "user_tz": 240
    },
    "id": "ADWhABkOy-7I",
    "outputId": "00e8ac52-361c-4bab-e2b6-068dc90662ed",
    "scrolled": true
   },
   "outputs": [
    {
     "ename": "OSError",
     "evalue": "backward_simulation_data/expected_SFS_well_mixed_N=10000000_Tfix=0_s=0.05_r=0.00e+00_nsample=10000_nsim=1000.txt not found.",
     "output_type": "error",
     "traceback": [
      "\u001b[1;31m---------------------------------------------------------------------------\u001b[0m",
      "\u001b[1;31mOSError\u001b[0m                                   Traceback (most recent call last)",
      "\u001b[1;32m~\\AppData\\Local\\Temp/ipykernel_22456/3945855598.py\u001b[0m in \u001b[0;36m<module>\u001b[1;34m\u001b[0m\n\u001b[0;32m     42\u001b[0m                  rho, s, m, r, tfinal, n, tfix, nSFS))\n\u001b[0;32m     43\u001b[0m \u001b[1;33m\u001b[0m\u001b[0m\n\u001b[1;32m---> 44\u001b[1;33m SFS_well_mixed = np.loadtxt('backward_simulation_data/expected_SFS_well_mixed_N={}_Tfix={}_s={:.2f}_r={:.2e}_nsample={}_nsim={}.txt'.format(\n\u001b[0m\u001b[0;32m     45\u001b[0m         N, tfix, s, r, n_wellmixed, nsim_wellmixed))\n\u001b[0;32m     46\u001b[0m SFS_well_mixed2 = np.loadtxt('backward_simulation_data/expected_SFS_well_mixed_N={}_Tfix={}_s={:.2f}_r={:.2e}_nsample={}_nsim={}.txt'.format(\n",
      "\u001b[1;32m~\\Anaconda3\\lib\\site-packages\\numpy\\lib\\npyio.py\u001b[0m in \u001b[0;36mloadtxt\u001b[1;34m(fname, dtype, comments, delimiter, converters, skiprows, usecols, unpack, ndmin, encoding, max_rows, like)\u001b[0m\n\u001b[0;32m   1063\u001b[0m             \u001b[0mfname\u001b[0m \u001b[1;33m=\u001b[0m \u001b[0mos_fspath\u001b[0m\u001b[1;33m(\u001b[0m\u001b[0mfname\u001b[0m\u001b[1;33m)\u001b[0m\u001b[1;33m\u001b[0m\u001b[1;33m\u001b[0m\u001b[0m\n\u001b[0;32m   1064\u001b[0m         \u001b[1;32mif\u001b[0m \u001b[0m_is_string_like\u001b[0m\u001b[1;33m(\u001b[0m\u001b[0mfname\u001b[0m\u001b[1;33m)\u001b[0m\u001b[1;33m:\u001b[0m\u001b[1;33m\u001b[0m\u001b[1;33m\u001b[0m\u001b[0m\n\u001b[1;32m-> 1065\u001b[1;33m             \u001b[0mfh\u001b[0m \u001b[1;33m=\u001b[0m \u001b[0mnp\u001b[0m\u001b[1;33m.\u001b[0m\u001b[0mlib\u001b[0m\u001b[1;33m.\u001b[0m\u001b[0m_datasource\u001b[0m\u001b[1;33m.\u001b[0m\u001b[0mopen\u001b[0m\u001b[1;33m(\u001b[0m\u001b[0mfname\u001b[0m\u001b[1;33m,\u001b[0m \u001b[1;34m'rt'\u001b[0m\u001b[1;33m,\u001b[0m \u001b[0mencoding\u001b[0m\u001b[1;33m=\u001b[0m\u001b[0mencoding\u001b[0m\u001b[1;33m)\u001b[0m\u001b[1;33m\u001b[0m\u001b[1;33m\u001b[0m\u001b[0m\n\u001b[0m\u001b[0;32m   1066\u001b[0m             \u001b[0mfencoding\u001b[0m \u001b[1;33m=\u001b[0m \u001b[0mgetattr\u001b[0m\u001b[1;33m(\u001b[0m\u001b[0mfh\u001b[0m\u001b[1;33m,\u001b[0m \u001b[1;34m'encoding'\u001b[0m\u001b[1;33m,\u001b[0m \u001b[1;34m'latin1'\u001b[0m\u001b[1;33m)\u001b[0m\u001b[1;33m\u001b[0m\u001b[1;33m\u001b[0m\u001b[0m\n\u001b[0;32m   1067\u001b[0m             \u001b[0mfh\u001b[0m \u001b[1;33m=\u001b[0m \u001b[0miter\u001b[0m\u001b[1;33m(\u001b[0m\u001b[0mfh\u001b[0m\u001b[1;33m)\u001b[0m\u001b[1;33m\u001b[0m\u001b[1;33m\u001b[0m\u001b[0m\n",
      "\u001b[1;32m~\\Anaconda3\\lib\\site-packages\\numpy\\lib\\_datasource.py\u001b[0m in \u001b[0;36mopen\u001b[1;34m(path, mode, destpath, encoding, newline)\u001b[0m\n\u001b[0;32m    192\u001b[0m \u001b[1;33m\u001b[0m\u001b[0m\n\u001b[0;32m    193\u001b[0m     \u001b[0mds\u001b[0m \u001b[1;33m=\u001b[0m \u001b[0mDataSource\u001b[0m\u001b[1;33m(\u001b[0m\u001b[0mdestpath\u001b[0m\u001b[1;33m)\u001b[0m\u001b[1;33m\u001b[0m\u001b[1;33m\u001b[0m\u001b[0m\n\u001b[1;32m--> 194\u001b[1;33m     \u001b[1;32mreturn\u001b[0m \u001b[0mds\u001b[0m\u001b[1;33m.\u001b[0m\u001b[0mopen\u001b[0m\u001b[1;33m(\u001b[0m\u001b[0mpath\u001b[0m\u001b[1;33m,\u001b[0m \u001b[0mmode\u001b[0m\u001b[1;33m,\u001b[0m \u001b[0mencoding\u001b[0m\u001b[1;33m=\u001b[0m\u001b[0mencoding\u001b[0m\u001b[1;33m,\u001b[0m \u001b[0mnewline\u001b[0m\u001b[1;33m=\u001b[0m\u001b[0mnewline\u001b[0m\u001b[1;33m)\u001b[0m\u001b[1;33m\u001b[0m\u001b[1;33m\u001b[0m\u001b[0m\n\u001b[0m\u001b[0;32m    195\u001b[0m \u001b[1;33m\u001b[0m\u001b[0m\n\u001b[0;32m    196\u001b[0m \u001b[1;33m\u001b[0m\u001b[0m\n",
      "\u001b[1;32m~\\Anaconda3\\lib\\site-packages\\numpy\\lib\\_datasource.py\u001b[0m in \u001b[0;36mopen\u001b[1;34m(self, path, mode, encoding, newline)\u001b[0m\n\u001b[0;32m    529\u001b[0m                                       encoding=encoding, newline=newline)\n\u001b[0;32m    530\u001b[0m         \u001b[1;32melse\u001b[0m\u001b[1;33m:\u001b[0m\u001b[1;33m\u001b[0m\u001b[1;33m\u001b[0m\u001b[0m\n\u001b[1;32m--> 531\u001b[1;33m             \u001b[1;32mraise\u001b[0m \u001b[0mIOError\u001b[0m\u001b[1;33m(\u001b[0m\u001b[1;34m\"%s not found.\"\u001b[0m \u001b[1;33m%\u001b[0m \u001b[0mpath\u001b[0m\u001b[1;33m)\u001b[0m\u001b[1;33m\u001b[0m\u001b[1;33m\u001b[0m\u001b[0m\n\u001b[0m\u001b[0;32m    532\u001b[0m \u001b[1;33m\u001b[0m\u001b[0m\n\u001b[0;32m    533\u001b[0m \u001b[1;33m\u001b[0m\u001b[0m\n",
      "\u001b[1;31mOSError\u001b[0m: backward_simulation_data/expected_SFS_well_mixed_N=10000000_Tfix=0_s=0.05_r=0.00e+00_nsample=10000_nsim=1000.txt not found."
     ]
    }
   ],
   "source": [
    "# import data\n",
    "\n",
    "L = 500\n",
    "rho = 20000\n",
    "N = L * rho\n",
    "s = 0.05\n",
    "m = 0.25\n",
    "tfinal = 1000000\n",
    "Un = 1\n",
    "r = 0\n",
    "n_forward = 100\n",
    "n = 100000\n",
    "n_wellmixed = 10000\n",
    "nSFS = 1000\n",
    "nsim_wellmixed = 1000\n",
    "tfix = 0\n",
    "\n",
    "f = np.arange(1, n + 1) / n\n",
    "f_wellmixed = np.arange(1, n_wellmixed + 1) / n_wellmixed\n",
    "navg = 30\n",
    "start_smooth = 100\n",
    "f_short = moving_average(f, navg, start_smooth)\n",
    "\n",
    "# Find v from lines\n",
    "\n",
    "freq_file = open(\n",
    "   'forward_simulation_data/L={}_N={}_s={:.6f}_m={:.6f}_tfinal={}_0.txt'.format(L, rho, s, m, tfinal))\n",
    "lines = np.loadtxt(freq_file, dtype=np.int64)\n",
    "tf_real = len(lines)\n",
    "v_list = []\n",
    "for t in np.arange(int(tf_real / 4), int(tf_real * 3 / 4)):\n",
    "    line1 = lines[t]\n",
    "    line2 = lines[t + 1]\n",
    "    psum1 = sum(line1) / rho\n",
    "    psum2 = sum(line2) / rho\n",
    "    v_list.append(psum2 - psum1)\n",
    "\n",
    "v = np.average(v_list)\n",
    "\n",
    "SFS = np.loadtxt(\n",
    "    'backward_simulation_data/expected_SFS_L={}_N={}_s={:.6f}_m={:.6f}_r={:.6f}_tfinal={}_nsample={}_tfix={}_sample_uniform_navg={}_avged.txt'.format(L, \n",
    "                 rho, s, m, r, tfinal, n, tfix, nSFS))\n",
    "\n",
    "SFS_well_mixed = np.loadtxt('backward_simulation_data/expected_SFS_well_mixed_N={}_Tfix={}_s={:.2f}_r={:.2e}_nsample={}_nsim={}.txt'.format(\n",
    "        N, tfix, s, r, n_wellmixed, nsim_wellmixed))\n",
    "SFS_well_mixed2 = np.loadtxt('backward_simulation_data/expected_SFS_well_mixed_N={}_Tfix={}_s={:.2f}_r={:.2e}_nsample={}_nsim={}.txt'.format(\n",
    "        N, tfix, s, r, n, 20))\n",
    "\n",
    "f_wellmixed_combined = np.append(f[:78], f_wellmixed[8:])\n",
    "SFS_wellmixed_combined = np.append(SFS_well_mixed2[:78], SFS_well_mixed[8:])\n",
    "\n"
   ]
  },
  {
   "cell_type": "code",
   "execution_count": null,
   "metadata": {},
   "outputs": [],
   "source": [
    "# smooth curves\n",
    "\n",
    "smooth_SFS_wellmixed_combined = moving_average(SFS_wellmixed_combined, navg, start_smooth)\n",
    "smooth_SFS = moving_average(SFS, navg, start_smooth)"
   ]
  },
  {
   "cell_type": "markdown",
   "metadata": {},
   "source": [
    "## Overall allele frequency spectra"
   ]
  },
  {
   "cell_type": "code",
   "execution_count": null,
   "metadata": {},
   "outputs": [],
   "source": [
    "# plot the figure on a loglog scale\n",
    "\n",
    "fig, ax = plt.subplots(figsize = (48,36))\n",
    "ax.set_xlabel(r'Frequency, $f$', fontsize = 180)\n",
    "ax.set_ylabel(r'Number of alleles, $P(f)$', fontsize = 180)\n",
    "\n",
    "ax.vlines(1 / (rho * v), 10 ** (-2), 10 ** 15, linestyle = 'dotted', linewidth = 10, color = '#009e73')\n",
    "ax.text(1.5e-4, 6e4, r'$f = 1 / \\rho v$', color = '#009e73', fontsize = 150, rotation = 90, \n",
    "         backgroundcolor = 'w')\n",
    "\n",
    "#plt.text(0.002, 3 * 10 ** 5, r'$U_n \\ln( N s f) / (s f^2)$', color = '#0072b2', fontsize = 150, rotation = -25)\n",
    "#        \n",
    "ax.loglog(moving_average(f_wellmixed_combined, navg, start_smooth), smooth_SFS_wellmixed_combined, \n",
    "             linewidth = 12, color = 'k', alpha = 0.4)\n",
    "ax.text(10 ** (-2), 60, 'well-mixed', color = 'k', alpha = 0.5, fontsize = 150, backgroundcolor = 'w')\n",
    "\n",
    "ax.loglog(f_short, smooth_SFS, linewidth = 12, color = 'k')\n",
    "ax.text(10 ** (-1), 10 ** 5, 'spatial', color = 'k', fontsize = 150, backgroundcolor = 'w')\n",
    "\n",
    "neutral, = ax.loglog(f_short, 2 * Un * rho * L * np.ones(len(f_short)) / f_short,\n",
    "           label = r'$2 N U_n / f$', linestyle = '--', linewidth = 12, color = '#cc79a7')\n",
    "\n",
    "\n",
    "bsc, = ax.loglog(f_short, Un / s / f_short ** 2, linestyle = '-.', linewidth = 12, color = '#0072b2', \n",
    "           label = r'$U_n / (sf^2)$')\n",
    "\n",
    "\n",
    "flat, = ax.semilogy(f_short, np.ones(len(f_short)) * L / v, linewidth = 12, linestyle = 'dotted',\n",
    "              label = r'$U_n L / v$', color = '#d55e00')\n",
    "\n",
    "ax.set_ylim((10, 2 * 10 ** 12))\n",
    "ax.set_xlim((1e-5, 1))\n",
    "\n",
    "plt.xticks(np.logspace(-5,0,6))\n",
    "plt.yticks(np.logspace(2,11,4))\n",
    "\n",
    "xvals = [0.02, 0.00005, 0.007]\n",
    "labelLines(ax.get_lines(), xvals = xvals, fontsize = 180, backgroundcolor = 'w');"
   ]
  },
  {
   "cell_type": "code",
   "execution_count": null,
   "metadata": {
    "colab": {
     "base_uri": "https://localhost:8080/"
    },
    "executionInfo": {
     "elapsed": 2667,
     "status": "ok",
     "timestamp": 1652272749198,
     "user": {
      "displayName": "Jiseon Min",
      "userId": "11505143649444708282"
     },
     "user_tz": 240
    },
    "id": "dV44K6sRIUiY",
    "outputId": "410f5c66-72a0-4e61-c392-e49901a80057"
   },
   "outputs": [],
   "source": [
    "# save the figure\n",
    "\n",
    "fig.savefig('Figure2_loglog.pdf', format = 'pdf', bbox_inches = 'tight')\n"
   ]
  },
  {
   "cell_type": "markdown",
   "metadata": {},
   "source": [
    "## Allele frequency spectra just in the surfing range"
   ]
  },
  {
   "cell_type": "code",
   "execution_count": null,
   "metadata": {
    "colab": {
     "base_uri": "https://localhost:8080/",
     "height": 1000
    },
    "executionInfo": {
     "elapsed": 4998,
     "status": "ok",
     "timestamp": 1652272833857,
     "user": {
      "displayName": "Jiseon Min",
      "userId": "11505143649444708282"
     },
     "user_tz": 240
    },
    "id": "RuV4AjrYy-7L",
    "outputId": "8251e53f-4ce0-437a-ac23-0252c0c98eac"
   },
   "outputs": [],
   "source": [
    "# plt.rc('font', family='serif', size = 150, weight = 'bold')\n",
    "fig, ax = plt.subplots(figsize = (48, 36))\n",
    "ax.set_xlabel(r'Frequency, $f$')\n",
    "ax.set_ylabel(r'Number of alleles, $P(f)$')\n",
    "\n",
    "ax.loglog(moving_average(f_wellmixed, navg, start_smooth), moving_average(SFS_well_mixed, navg, start_smooth), \n",
    "             linewidth = 12, color = 'k', alpha = 0.4)\n",
    "\n",
    "ax.loglog(f_short, moving_average(SFS, navg, start_smooth), linewidth = 12, color = 'k')\n",
    "\n",
    "bsc, = ax.loglog(f_short, Un / s / f_short ** 2, linestyle = '-.', linewidth = 12, color = '#0072b2', \n",
    "           label = r'$\\boldmath{U_n / (sf^2)}$')\n",
    "bsc2, = ax.loglog(f_short, Un * np.log(N * s * f_short) / s / f_short ** 2 / 2, \n",
    "           linestyle = '-.', linewidth = 12, color = 'b', label = r'$\\boldmath{U_n \\ln(Nsf) / (2 sf^2)}$')\n",
    "\n",
    "\n",
    "ax.text(4 * 10 ** (-2), 2 * 10 ** 5, 'spatial', color = 'k', fontsize = 150, backgroundcolor = 'w')\n",
    "ax.text(2 * 10 ** (-2), 5 * 10 ** 2, 'well-mixed', color = 'k', alpha = 0.5, fontsize = 150, backgroundcolor = 'w')\n",
    "ax.text(5 * 10 ** (-3), 10 ** 7, r'$\\boldmath{U_n \\ln(Nsf) / (2 sf^2)}$',  \n",
    "         color = 'b', fontsize = 150, backgroundcolor = 'w')\n",
    "ax.text(1.2 * 10 ** (-3), 4 * 10 ** 5, r'$\\boldmath{U_n / (sf^2)}$', \n",
    "        color = '#0072b2', fontsize = 150, backgroundcolor = 'w')\n",
    "\n",
    "ax.set_xlim((5 * 10 ** -4, 2 * 10 ** -1))\n",
    "ax.set_ylim((200, 2 * 10 ** 8));"
   ]
  },
  {
   "cell_type": "code",
   "execution_count": null,
   "metadata": {},
   "outputs": [],
   "source": [
    "# save the figure\n",
    "fig.savefig('Figure3a.pdf', format = 'pdf', bbox_inches = 'tight')"
   ]
  },
  {
   "cell_type": "markdown",
   "metadata": {},
   "source": [
    "### Showing the collapse of different parameter combinations"
   ]
  },
  {
   "cell_type": "code",
   "execution_count": null,
   "metadata": {
    "id": "HdmatBshy-7M"
   },
   "outputs": [],
   "source": [
    "# plt.rc('text', usetex=True)\n",
    "# plt.rc('font', family='serif', size = 60, weight = 'bold')\n",
    "Un = 1\n",
    "r = 0\n",
    "n_forward = 100\n",
    "tfix = 0\n",
    "\n",
    "n = 100000\n",
    "nSFS = 1000\n",
    "\n",
    "blue_cmap = cm.get_cmap('Blues')\n",
    "red_cmap = cm.get_cmap('Reds')\n",
    "grey_cmap = cm.get_cmap('Greys')\n",
    "\n",
    "slist = np.arange(0.02, 0.07, 0.01)\n",
    "mlist = np.arange(0.2, 0.55, 0.05)\n",
    "Lrholist = [[500, 2000], [1000, 10000], [1000, 1000], [2000, 5000]]\n",
    "tfinallist = [10000, 100000, 100000, 100000]\n",
    "\n",
    "xpositions = [10**(-3), 10**(-3), 10**(-3), 6 * 10 ** (-5), 6 * 10 ** (-5)]\n",
    "ypositions = [10 ** 5, 10 ** 4, 10 ** 3, 10 ** 4, 10 ** 3]\n",
    "\n",
    "fitlist = []\n",
    "\n",
    "f = np.arange(1, n + 1) / n\n",
    "navg = 30\n",
    "start_smooth = 100\n",
    "f_short = moving_average(f, navg, start_smooth)\n",
    "\n",
    "fit_range_ind = np.arange(200,1000)\n"
   ]
  },
  {
   "cell_type": "code",
   "execution_count": null,
   "metadata": {
    "colab": {
     "base_uri": "https://localhost:8080/",
     "height": 1000
    },
    "executionInfo": {
     "elapsed": 258318,
     "status": "ok",
     "timestamp": 1652238731643,
     "user": {
      "displayName": "Jiseon Min",
      "userId": "11505143649444708282"
     },
     "user_tz": 240
    },
    "id": "vy9sbeo1FiVM",
    "outputId": "d6a93210-9f0c-4ec5-c5aa-a715ed58d615"
   },
   "outputs": [],
   "source": [
    "fig, ax = plt.subplots(figsize = (24, 18));\n",
    "vary_s_list = []\n",
    "\n",
    "for sind in range(len(slist)):\n",
    "    s = slist[sind]\n",
    "    m = 0.25\n",
    "    L = 500\n",
    "    rho = 20000\n",
    "    N = rho * L\n",
    "    tfinal = 1000000\n",
    "\n",
    "    fstart_ind = int(10 / (rho * np.sqrt(m * s)) * n)\n",
    "    SFS = np.loadtxt(\n",
    "        'backward_simulation_data/expected_SFS_L={}_N={}_s={:.6f}_m={:.6f}_r={:.6f}_tfinal={}_nsample={}_tfix={}_sample_uniform_navg={}_avged.txt'.format(L, \n",
    "                 rho, s, m, r, tfinal, n, tfix, nSFS))\n",
    "\n",
    "    y_smooth = moving_average(SFS * s / np.log(N * s * f), \n",
    "                                navg, start_smooth)\n",
    "\n",
    "    s_plot = ax.scatter(f_short[fstart_ind::30], y_smooth[fstart_ind::30], \n",
    "                 s = 250, marker = 'v', \n",
    "                 color = blue_cmap(100 - sind * 10));\n",
    "    vary_s_list.append(s_plot)\n",
    "    \n",
    "vary_s_tuple = tuple(vary_s_list)\n",
    "\n"
   ]
  },
  {
   "cell_type": "code",
   "execution_count": null,
   "metadata": {
    "id": "-YaAfyGmFle6"
   },
   "outputs": [],
   "source": [
    "vary_m_list = []\n",
    "for mind in range(len(mlist)):\n",
    "    s = 0.05\n",
    "    m = mlist[mind]\n",
    "    L = 500\n",
    "    rho = 20000\n",
    "    N = rho * L\n",
    "    tfinal = 1000000\n",
    "\n",
    "    fstart_ind = int(10 / (rho * np.sqrt(m * s)) * n)    \n",
    "    SFS = np.loadtxt(\n",
    "        'backward_simulation_data/expected_SFS_L={}_N={}_s={:.6f}_m={:.6f}_r={:.6f}_tfinal={}_nsample={}_tfix={}_sample_uniform_navg={}_avged.txt'.format(L, \n",
    "                 rho, s, m, r, tfinal, n, tfix, nSFS))\n",
    "\n",
    "    y_smooth = moving_average(SFS * s / np.log(N * s * f), \n",
    "                                navg, start_smooth)\n",
    "\n",
    "    m_plot = ax.scatter(f_short[fstart_ind::30], y_smooth[fstart_ind::30], \n",
    "                 s = 250, marker = 'o', \n",
    "                 color = red_cmap(100 - mind * 10))\n",
    "    vary_m_list.append(m_plot)\n",
    "vary_m_tuple = tuple(vary_m_list)\n"
   ]
  },
  {
   "cell_type": "code",
   "execution_count": null,
   "metadata": {
    "colab": {
     "base_uri": "https://localhost:8080/",
     "height": 52
    },
    "executionInfo": {
     "elapsed": 234128,
     "status": "ok",
     "timestamp": 1652239393285,
     "user": {
      "displayName": "Jiseon Min",
      "userId": "11505143649444708282"
     },
     "user_tz": 240
    },
    "id": "p3xNgxDFGocq",
    "outputId": "88fe8524-77c7-421f-8c12-38d59bef3278",
    "scrolled": true
   },
   "outputs": [],
   "source": [
    "\n",
    "vary_Lrho_list = []    \n",
    "for Lrhoind in range(len(Lrholist)):\n",
    "    s = 0.05\n",
    "    m = 0.25\n",
    "    L, rho = Lrholist[Lrhoind]\n",
    "    N = L * rho\n",
    "    tfinal = tfinallist[Lrhoind]\n",
    "    fstart_ind = int(10 / (rho * np.sqrt(m * s)) * n)\n",
    "    SFS = np.loadtxt(\n",
    "        'backward_simulation_data/expected_SFS_L={}_N={}_s={:.6f}_m={:.6f}_r={:.6f}_tfinal={}_nsample={}_tfix={}_sample_uniform_navg={}_avged.txt'.format(L, \n",
    "                 rho, s, m, r, tfinal, n, tfix, nSFS))\n",
    "\n",
    "    y_smooth = moving_average(SFS * s / np.log(N * s * f), \n",
    "                                navg, start_smooth)\n",
    "\n",
    "    Lrho_plot = ax.scatter(f_short[fstart_ind::15], y_smooth[fstart_ind::15], \n",
    "                 s = 250, marker = '*', \n",
    "                 color = grey_cmap(100 - Lrhoind * 10))\n",
    "    vary_Lrho_list.append(Lrho_plot)\n",
    "vary_Lrho_tuple = tuple(vary_Lrho_list)\n",
    "\n",
    "ax.loglog()\n",
    "ax.set_xlim((3 * 10 ** -3, 10 ** -1))\n",
    "ax.set_ylim((5 * 10, 5 * 10 ** 4))\n",
    "ax.set_xlabel('Frequency, ' + r'$\\boldmath{f}$', fontsize = 100)\n",
    "ax.set_ylabel(r'$\\boldmath{P(f) \\cdot s / \\ln(Nsf)}$', fontsize = 100)\n",
    "ax.legend([vary_s_tuple, vary_m_tuple, vary_Lrho_tuple], [r'vary $s$, '\n",
    "          + r'$m = 0.25, L = 500, \\rho = 2\\times 10^4$', \n",
    "          r'vary $m$, '\n",
    "          + r' $s = 0.05, L = 500, \\rho = 2\\times 10^4$', \n",
    "          r'vary $\\rho$ and $L$, ' \n",
    "          + r'$s = 0.05, m = 0.25$'], fontsize = 30, \n",
    "    handler_map={tuple: HandlerTuple(ndivide=None)})"
   ]
  },
  {
   "cell_type": "code",
   "execution_count": null,
   "metadata": {},
   "outputs": [],
   "source": [
    "# save figure:\n",
    "fig.savefig('Figure3b_new.pdf', format = 'pdf', bbox_inches = 'tight')"
   ]
  },
  {
   "cell_type": "code",
   "execution_count": null,
   "metadata": {
    "id": "lnSWzeGQIe_7"
   },
   "outputs": [],
   "source": [
    "plt.rc('text', usetex=True)\n",
    "plt.rc('font', family='serif', size = 60, weight = 'bold')\n",
    "plt.figure(figsize = (24, 18))\n",
    "plt.xlabel(r'Frequency, $f$', fontsize = 75)\n",
    "plt.ylabel(r'Number of alleles, $P(f)$', fontsize = 75)\n",
    "\n",
    "L = 500\n",
    "rho = 20000\n",
    "N = L * rho\n",
    "s = 0.05\n",
    "m = 0.25\n",
    "tfinal = 1000000\n",
    "Un = 1\n",
    "r = 0\n",
    "n_forward = 100\n",
    "tfix = 0\n",
    "\n",
    "\n",
    "# Change m - sample everywhere\n",
    "n = 100000\n",
    "nSFS = 1000\n",
    "\n",
    "tfixlist = [1000, 10000, 100000]\n",
    "viridis_cmap = cm.get_cmap('viridis')\n",
    "\n",
    "fitlist = []\n",
    "\n",
    "f = np.arange(1, n + 1) / n\n",
    "navg = 30\n",
    "start_smooth = 100\n",
    "f_short = moving_average(f, navg, start_smooth)\n",
    "\n",
    "fit_range_ind = np.arange(200,1000)\n",
    "\n",
    "\n",
    "freq_file = open(\n",
    "   'forward_simulation_data/L={}_N={}_s={:.6f}_m={:.6f}_tfinal={}_0.txt'.format(\n",
    "           L, rho, s, m, tfinal))\n",
    "lines = np.loadtxt(freq_file, dtype=np.int64)\n",
    "tf_real = len(lines)\n",
    "v_list = []\n",
    "for t in np.arange(int(tf_real / 4), int(tf_real * 3 / 4)):\n",
    "    line1 = lines[t]\n",
    "    line2 = lines[t + 1]\n",
    "    psum1 = sum(line1) / rho\n",
    "    psum2 = sum(line2) / rho\n",
    "    v_list.append(psum2 - psum1)\n",
    "\n",
    "v = np.average(v_list)\n",
    "#xpositions = [6 * 10 ** (-5), 10 ** (-3), 10 ** (-2)]\n",
    "xpositions = [5 * 10 ** (-5), 8 * 10 ** (-4), 1.5 * 10 ** (-2)]\n",
    "\n",
    "plt.text(2 * 10 ** -4, 200, r'$\\boldmath{f = t / N + 1 / (\\rho v)}$', fontsize = 80)\n",
    "flat, = plt.loglog(f_short, np.ones(len(f_short)) * L / v, linewidth = 5, \n",
    "           linestyle = 'dotted'\n",
    "              , label = r'$ U_n L / v$', color = '#d55e00')\n",
    "neutral, = plt.loglog(f_short, \n",
    "           2 * Un * N * np.ones(len(f_short)) / f_short,\n",
    "           label = r'$2 N U_n / f$', linestyle = '-.',\n",
    "           linewidth = 5, color = '#cc79a7')\n",
    "bsc, = plt.loglog(f_short, \n",
    "           Un / (2 * s * f_short ** 2) * np.log(N * s * f_short), \n",
    "           label = r'$U_n ln(Nsf) / (2 s f^2)$', \n",
    "           linestyle = '-.', linewidth = 5, color = '#0072b2')\n",
    "\n",
    "xvals = [5 * 10 ** (-5), 0.1, 3 * 10 ** -5]\n",
    "labelLines(plt.gca().get_lines(), xvals = xvals, fontsize = 75)\n",
    "\n",
    "for tind in range(len(tfixlist)):\n",
    "    tfix = tfixlist[tind]\n",
    "    # Find v from lines\n",
    "\n",
    "    SFS = np.loadtxt(\n",
    "        'backward_simulation_data/SFS_L={}_N={}_s={:.6f}_m={:.6f}_r={:.6f}_tfinal={}_nsample={}_tfix={}_sample_uniform_navg={}_avged.txt'.format(L, \n",
    "                 rho, s, m, r, tfinal, n, tfix, nSFS))\n",
    "\n",
    "\n",
    "    plt.loglog(f_short, \n",
    "                 moving_average(SFS, navg, start_smooth), \n",
    "                 linewidth = 5, \n",
    "                 color = viridis_cmap(tind * 0.4), \n",
    "                 label = '$t =${:.2e}'.format(tfix))\n",
    "    \n",
    "    plt.vlines(tfix / N + 1 / (v * rho), 10 ** 3, 10 ** 11, linestyle = 'dotted',\n",
    "               linewidth = 5, color = viridis_cmap(tind * 0.4))\n",
    "    plt.text(xpositions[tind], 5 * 10 ** 11, \n",
    "             r'$\\boldmath{t = }$' + '{:.1e}'.format(tfix), \n",
    "             color = viridis_cmap(tind * 0.4), fontsize = 60)    \n",
    "    popt, pcov = curve_fit(power_law_fit, f[fit_range_ind], SFS[fit_range_ind])\n",
    "    fitlist.append(popt[0])\n",
    "\n",
    "\n",
    "plt.xlim((2 * 10 ** -6, 0.99))\n"
   ]
  },
  {
   "cell_type": "code",
   "execution_count": null,
   "metadata": {},
   "outputs": [],
   "source": [
    "# save figure:\n",
    "plt.savefig('Figure4.pdf', format = 'pdf', bbox_inches = 'tight')"
   ]
  }
 ],
 "metadata": {
  "colab": {
   "collapsed_sections": [],
   "name": "Figures.ipynb",
   "provenance": []
  },
  "kernelspec": {
   "display_name": "Python 3 (ipykernel)",
   "language": "python",
   "name": "python3"
  },
  "language_info": {
   "codemirror_mode": {
    "name": "ipython",
    "version": 3
   },
   "file_extension": ".py",
   "mimetype": "text/x-python",
   "name": "python",
   "nbconvert_exporter": "python",
   "pygments_lexer": "ipython3",
   "version": "3.9.7"
  }
 },
 "nbformat": 4,
 "nbformat_minor": 1
}
